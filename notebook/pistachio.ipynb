{
 "cells": [
  {
   "cell_type": "markdown",
   "id": "e87a2355-a6f1-4f92-8f8c-3781b4416ece",
   "metadata": {},
   "source": [
    "# pistachio\n"
   ]
  },
  {
   "cell_type": "code",
   "execution_count": null,
   "id": "054ac4c5-d982-4d2c-97db-56cb0fa4932c",
   "metadata": {},
   "outputs": [],
   "source": []
  },
  {
   "cell_type": "code",
   "execution_count": 16,
   "id": "c0e3fa01-5594-4ec7-9904-05ec659b1b86",
   "metadata": {},
   "outputs": [],
   "source": [
    "# convert arff to parquet\n",
    "\n",
    "from scipy.io import arff \n",
    "import pandas as pd\n",
    "import os\n",
    "\n",
    "arff_filepath = './data/Pistachio_Dataset/Pistachio_16_Features_Dataset/Pistachio_16_Features_Dataset.arff'\n",
    "parquet_path = './data/pistachio_16.snappy.pqt'\n",
    "\n",
    "def arff_to_parquet(input_arff: str, output_parquet: str):\n",
    "    \"\"\"convert arff file to parquet\"\"\"\n",
    "    if not os.path.exists(input_arff):\n",
    "        raise ValueError(f\"input file '{input_arff}' does not exist\")\n",
    "    data, meta = arff.loadarff(input_arff)\n",
    "    print(\"arff metadata\")\n",
    "    print(meta)\n",
    "    df = pd.DataFrame(data)\n",
    "    df.to_parquet(output_parquet)\n",
    "##################\n",
    "\n",
    "if not os.path.exists(parquet_path):\n",
    "    print(\"converting arff to parquet\")\n",
    "    arff_to_parquet(arff_filepath, parquet_path)\n",
    "\n"
   ]
  },
  {
   "cell_type": "code",
   "execution_count": 14,
   "id": "6a7bba72-4c03-424e-8c3e-b31ddf0b5d4f",
   "metadata": {},
   "outputs": [],
   "source": [
    "# Dataset: Pistachio_16_Features_Dataset\n",
    "# \tAREA's type is numeric\n",
    "# \tPERIMETER's type is numeric\n",
    "# \tMAJOR_AXIS's type is numeric\n",
    "# \tMINOR_AXIS's type is numeric\n",
    "# \tECCENTRICITY's type is numeric\n",
    "# \tEQDIASQ's type is numeric\n",
    "# \tSOLIDITY's type is numeric\n",
    "# \tCONVEX_AREA's type is numeric\n",
    "# \tEXTENT's type is numeric\n",
    "# \tASPECT_RATIO's type is numeric\n",
    "# \tROUNDNESS's type is numeric\n",
    "# \tCOMPACTNESS's type is numeric\n",
    "# \tSHAPEFACTOR_1's type is numeric\n",
    "# \tSHAPEFACTOR_2's type is numeric\n",
    "# \tSHAPEFACTOR_3's type is numeric\n",
    "# \tSHAPEFACTOR_4's type is numeric\n",
    "# \tClass's type is nominal, range is ('Kirmizi_Pistachio', 'Siit_Pistachio')"
   ]
  },
  {
   "cell_type": "markdown",
   "id": "5a718dd2-d43d-439f-aa38-97852dd71910",
   "metadata": {},
   "source": [
    "## Load Data\n",
    "load data from parquet, stratify split to train and test"
   ]
  },
  {
   "cell_type": "code",
   "execution_count": null,
   "id": "3de70962-57cc-4309-9e43-521bd0b0076d",
   "metadata": {},
   "outputs": [],
   "source": [
    "from typing import List\n",
    "def stratify_split(input_parquet: str, strat_col: str, filenames: List[str], weights: List[float], seed=42) :\n",
    "    \"\"\"stratify sample the data\"\"\"\n",
    "    in_df = pd.read_parquet(input_parquet)\n",
    "    if len(weights) != len(filenames):\n",
    "        raise ValueError(f\" filenames and weights are different lengths ({len(filenames} vs {len(weights)})\")\n",
    "    if not start_col in in_df.columns:\n",
    "        raise ValueError(f\"input file {input_parquet} does not contain a column named {strat_col}\")\n",
    "    strat_classes = in_df[strat_col].unique()\n",
    "    for outfile, weight in zip(filenames, weights):\n",
    "        for theclass in strat_classes:\n",
    "            \n",
    "            \n",
    "\n"
   ]
  }
 ],
 "metadata": {
  "kernelspec": {
   "display_name": "Python 3 (ipykernel)",
   "language": "python",
   "name": "python3"
  },
  "language_info": {
   "codemirror_mode": {
    "name": "ipython",
    "version": 3
   },
   "file_extension": ".py",
   "mimetype": "text/x-python",
   "name": "python",
   "nbconvert_exporter": "python",
   "pygments_lexer": "ipython3",
   "version": "3.11.4"
  }
 },
 "nbformat": 4,
 "nbformat_minor": 5
}
